{
 "cells": [
  {
   "cell_type": "code",
   "execution_count": 1,
   "metadata": {},
   "outputs": [],
   "source": [
    "import pandas as pd\n",
    "import subprocess"
   ]
  },
  {
   "cell_type": "code",
   "execution_count": 59,
   "metadata": {},
   "outputs": [
    {
     "name": "stdout",
     "output_type": "stream",
     "text": [
      "\n"
     ]
    }
   ],
   "source": [
    "df = pd.read_csv('resource/repo_list_100.csv', header=0)\n",
    "num_files = []\n",
    "for index, rows in df.iterrows():\n",
    "    # ディレクトリを変更してからコマンドを実行\n",
    "    path = 'repo/' + rows['name']\n",
    "    # print(path)\n",
    "    command = \"find -type f -name '*.py' | wc -l\"\n",
    "    # output = subprocess.run(command, cwd=path, shell=True, capture_output=True, text=True)\n",
    "    output = subprocess.run(command.split(), cwd=path, shell=True, capture_output=True, text=True)\n",
    "    \n",
    "    # num_files.append(output.stdout)\n",
    "    print(output.stdout)\n",
    "    break\n",
    "    \n",
    "# df['num_files'] = num_files\n",
    "# df.to_csv('resource/repo_list_100_2.csv', index=False) \n",
    "    "
   ]
  }
 ],
 "metadata": {
  "kernelspec": {
   "display_name": "siamese",
   "language": "python",
   "name": "python3"
  },
  "language_info": {
   "codemirror_mode": {
    "name": "ipython",
    "version": 3
   },
   "file_extension": ".py",
   "mimetype": "text/x-python",
   "name": "python",
   "nbconvert_exporter": "python",
   "pygments_lexer": "ipython3",
   "version": "3.9.19"
  }
 },
 "nbformat": 4,
 "nbformat_minor": 2
}
