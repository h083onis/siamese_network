{
 "cells": [
  {
   "cell_type": "code",
   "execution_count": 1,
   "metadata": {},
   "outputs": [],
   "source": [
    "from gensim.models.word2vec import Word2Vec, LineSentence\n",
    "import sentencepiece as spm\n",
    "import multiprocessing\n",
    "num_core = multiprocessing.cpu_count()"
   ]
  },
  {
   "cell_type": "code",
   "execution_count": 4,
   "metadata": {},
   "outputs": [],
   "source": [
    "sp = spm.SentencePieceProcessor(model_file='resource/code_snippet.model')\n",
    "with open('resource/code_snippet3.txt', 'r', encoding='utf-8') as f:\n",
    "    while True:\n",
    "        line = f.readline()\n",
    "        tokens = line.split(' ')\n",
    "        for token in tokens:\n",
    "            if sp.piece_to_id(token) == -1:\n",
    "                print(token)\n",
    "        "
   ]
  },
  {
   "cell_type": "code",
   "execution_count": null,
   "metadata": {},
   "outputs": [],
   "source": [
    "sp = spm.SentencePieceProcessor(model_file='resource/code_snippet.model')\n",
    "with open('resource/code_snippet2.txt', 'r', encoding='utf-8') as f, open('resource/code_snippet3.txt', 'a', encoding='utf-8') as f_a: \n",
    "    while True:\n",
    "        line  = f.readline()\n",
    "        if line == '':\n",
    "            break\n",
    "        snt = ' '.join(sp.EncodeAsPieces(line))\n",
    "        print(snt, file=f)"
   ]
  },
  {
   "cell_type": "code",
   "execution_count": 2,
   "metadata": {},
   "outputs": [
    {
     "name": "stdout",
     "output_type": "stream",
     "text": [
      "Epoch 1, Loss_diff: 74341240.0\n",
      "Epoch 1, Loss_latest: 74341240.0\n",
      "Epoch 2, Loss_diff: -198672.0\n",
      "Epoch 2, Loss_latest: 74142568.0\n",
      "Epoch 3, Loss_diff: 411296.0\n",
      "Epoch 3, Loss_latest: 74553864.0\n",
      "Epoch 4, Loss_diff: -1185096.0\n",
      "Epoch 4, Loss_latest: 73368768.0\n",
      "Epoch 5, Loss_diff: 469976.0\n",
      "Epoch 5, Loss_latest: 73838744.0\n",
      "Epoch 6, Loss_diff: -660128.0\n",
      "Epoch 6, Loss_latest: 73178616.0\n",
      "Epoch 7, Loss_diff: -380208.0\n",
      "Epoch 7, Loss_latest: 72798408.0\n",
      "Epoch 8, Loss_diff: 879632.0\n",
      "Epoch 8, Loss_latest: 73678040.0\n",
      "Epoch 9, Loss_diff: -434248.0\n",
      "Epoch 9, Loss_latest: 73243792.0\n",
      "Epoch 10, Loss_diff: -418168.0\n",
      "Epoch 10, Loss_latest: 72825624.0\n",
      "Epoch 11, Loss_diff: 193096.0\n",
      "Epoch 11, Loss_latest: 73018720.0\n",
      "Epoch 12, Loss_diff: -556416.0\n",
      "Epoch 12, Loss_latest: 72462304.0\n",
      "Epoch 13, Loss_diff: 116320.0\n",
      "Epoch 13, Loss_latest: 72578624.0\n",
      "Epoch 14, Loss_diff: -705552.0\n",
      "Epoch 14, Loss_latest: 71873072.0\n",
      "Epoch 15, Loss_diff: 263480.0\n",
      "Epoch 15, Loss_latest: 72136552.0\n",
      "Epoch 16, Loss_diff: 78456.0\n",
      "Epoch 16, Loss_latest: 72215008.0\n",
      "Epoch 17, Loss_diff: -717576.0\n",
      "Epoch 17, Loss_latest: 71497432.0\n",
      "Epoch 18, Loss_diff: 431120.0\n",
      "Epoch 18, Loss_latest: 71928552.0\n",
      "Epoch 19, Loss_diff: -482616.0\n",
      "Epoch 19, Loss_latest: 71445936.0\n",
      "Epoch 20, Loss_diff: 665704.0\n",
      "Epoch 20, Loss_latest: 72111640.0\n"
     ]
    }
   ],
   "source": [
    "from gensim.models.callbacks import CallbackAny2Vec\n",
    "\n",
    "class LossLogger(CallbackAny2Vec):\n",
    "    def __init__(self):\n",
    "        self.losses = []\n",
    "        self.losses2 = []\n",
    "        self.epoch = 0\n",
    "        # 今のロス値\n",
    "        self.cumu_loss = 0.0\n",
    "        # 1つ前のロス値\n",
    "        self.pre_cumu_loss = 0.0\n",
    "        self.now_loss = 0\n",
    "\n",
    "    def on_epoch_end(self, model2):\n",
    "        loss = model2.get_latest_training_loss()\n",
    "        self.cumu_loss = float(loss)\n",
    "        self.now_loss = self.cumu_loss if self.epoch == 0 else self.cumu_loss - self.pre_cumu_loss\n",
    "        self.pre_cumu_loss = self.cumu_loss\n",
    "        self.losses.append(self.now_loss)\n",
    "        self.losses2.append(loss)\n",
    "        print(f'Epoch {len(self.losses)}, Loss_diff: {self.now_loss}')\n",
    "        print(f'Epoch {len(self.losses)}, Loss_latest: {loss}')\n",
    "        model2.save('resource/word2vec/model8/model8_'+str(self.epoch))\n",
    "        model2.running_training_loss = 0.0\n",
    "        self.epoch += 1\n",
    "        \n",
    "loss_logger = LossLogger()\n",
    "loss_val_list = []\n",
    "vector_size = 256\n",
    "sentence = LineSentence('resource/code_snippet3.txt')\n",
    "model = Word2Vec(sentence, sg=1, vector_size=vector_size, min_count=1, window=5, epochs=20, compute_loss=True, workers=num_core, seed=100, callbacks=[loss_logger])\n",
    "# model.save(\"model3\")\n",
    "with open('resource/word2vec/model8_loss.txt', 'w') as f:\n",
    "    for tmp2 in loss_logger.losses2:\n",
    "        print(str(tmp2), file=f)"
   ]
  },
  {
   "cell_type": "code",
   "execution_count": 5,
   "metadata": {},
   "outputs": [],
   "source": [
    "with open('resource/word2vec/model7_loss1.txt', 'w') as f:\n",
    "    for tmp2 in loss_logger.losses2:\n",
    "        print(str(tmp2), file=f)"
   ]
  },
  {
   "cell_type": "code",
   "execution_count": null,
   "metadata": {},
   "outputs": [
    {
     "name": "stdout",
     "output_type": "stream",
     "text": [
      "134217728.0\n"
     ]
    }
   ],
   "source": [
    "model2 = Word2Vec.load('model3')\n",
    "print(model2.get_latest_training_loss())"
   ]
  },
  {
   "cell_type": "code",
   "execution_count": 8,
   "metadata": {},
   "outputs": [
    {
     "name": "stdout",
     "output_type": "stream",
     "text": [
      "Epoch 1, Loss: 73570024.0\n",
      "Epoch 1, Loss_latest: 73570024.0\n",
      "Epoch 2, Loss: 22648.0\n",
      "Epoch 2, Loss_latest: 73592672.0\n",
      "Epoch 3, Loss: -227496.0\n",
      "Epoch 3, Loss_latest: 73365176.0\n",
      "Epoch 4, Loss: -364344.0\n",
      "Epoch 4, Loss_latest: 73000832.0\n",
      "Epoch 5, Loss: 201160.0\n",
      "Epoch 5, Loss_latest: 73201992.0\n",
      "Epoch 6, Loss: -674712.0\n",
      "Epoch 6, Loss_latest: 72527280.0\n",
      "Epoch 7, Loss: -1390168.0\n",
      "Epoch 7, Loss_latest: 71137112.0\n",
      "Epoch 8, Loss: 668576.0\n",
      "Epoch 8, Loss_latest: 71805688.0\n",
      "Epoch 9, Loss: -782208.0\n",
      "Epoch 9, Loss_latest: 71023480.0\n",
      "Epoch 10, Loss: 533904.0\n",
      "Epoch 10, Loss_latest: 71557384.0\n",
      "[73570024.0, 22648.0, -227496.0, -364344.0, 201160.0, -674712.0, -1390168.0, 668576.0, -782208.0, 533904.0]\n"
     ]
    }
   ],
   "source": [
    "from gensim.models.callbacks import CallbackAny2Vec\n",
    "\n",
    "class LossLogger(CallbackAny2Vec):\n",
    "    def __init__(self):\n",
    "        self.losses = []\n",
    "        self.losses2 = []\n",
    "        self.epoch = 10\n",
    "        # 今のロス値\n",
    "        self.cumu_loss = 0.0\n",
    "        # 1つ前のロス値\n",
    "        self.pre_cumu_loss = 0.0\n",
    "        self.now_loss = 0\n",
    "\n",
    "    def on_epoch_end(self, model2):\n",
    "        loss = model2.get_latest_training_loss()\n",
    "        self.cumu_loss = float(loss)\n",
    "        self.now_loss = self.cumu_loss if self.epoch == 0 else self.cumu_loss - self.pre_cumu_loss\n",
    "        self.pre_cumu_loss = self.cumu_loss\n",
    "        self.losses.append(self.now_loss)\n",
    "        self.losses2.append(loss)\n",
    "        print(f'Epoch {len(self.losses)}, Loss: {self.now_loss}')\n",
    "        print(f'Epoch {len(self.losses)}, Loss_latest: {loss}')\n",
    "        model2.save('resource/word2vec/model7_'+str(self.epoch))\n",
    "        model2.running_training_loss = 0.0\n",
    "        self.epoch += 1\n",
    "        \n",
    "model = Word2Vec.load('resource/word2vec/model7_9')\n",
    "model.running_training_loss = 0.0\n",
    "sentence = LineSentence('resource/code_snippet3.txt')\n",
    "loss_logger = LossLogger()\n",
    "model.train(sentence, total_examples=model.corpus_count, epochs=10, compute_loss=True, callbacks=[loss_logger])\n",
    "print(loss_logger.losses)"
   ]
  },
  {
   "cell_type": "code",
   "execution_count": 9,
   "metadata": {},
   "outputs": [],
   "source": [
    "with open('resource/word2vec/model7_loss1.txt', 'a') as f:\n",
    "    for tmp2 in loss_logger.losses2:\n",
    "        print(str(tmp2), file=f)"
   ]
  },
  {
   "cell_type": "code",
   "execution_count": null,
   "metadata": {},
   "outputs": [
    {
     "name": "stdout",
     "output_type": "stream",
     "text": [
      "Epoch 1, Loss: 134217728.0\n",
      "Epoch 2, Loss: 134217728.0\n",
      "Epoch 3, Loss: 134217728.0\n",
      "Epoch 4, Loss: 134217728.0\n",
      "Epoch 5, Loss: 134217728.0\n",
      "Epoch 6, Loss: 134217728.0\n",
      "Epoch 7, Loss: 134217728.0\n",
      "Epoch 8, Loss: 134217728.0\n",
      "Epoch 9, Loss: 134217728.0\n",
      "Epoch 10, Loss: 134217728.0\n"
     ]
    }
   ],
   "source": [
    "from gensim.models.callbacks import CallbackAny2Vec\n",
    "\n",
    "class LossLogger(CallbackAny2Vec):\n",
    "    def __init__(self):\n",
    "        self.losses = []\n",
    "        self.epoch = 0\n",
    "\n",
    "    def on_epoch_end(self, model):\n",
    "        loss = model.get_latest_training_loss()\n",
    "        self.losses.append(loss)\n",
    "        print(f'Epoch {len(self.losses)}, Loss: {loss}')\n",
    "        model.save('resource/word2vec/model4_'+str(self.epoch))\n",
    "        self.epoch += 1\n",
    "        \n",
    "sp = spm.SentencePieceProcessor(model_file='resource/code_snippet.model')\n",
    "loss_logger = LossLogger()\n",
    "loss_val_list = []\n",
    "vector_size = 256\n",
    "sentence = LineSentence('resource/code_snippet3.txt')\n",
    "model = Word2Vec(sentence, sg=1, vector_size=vector_size, min_count=1, window=5, epochs=10, compute_loss=True, workers=1, seed=100, callbacks=[loss_logger])\n",
    "# model.save(\"model3\")"
   ]
  },
  {
   "cell_type": "code",
   "execution_count": null,
   "metadata": {},
   "outputs": [
    {
     "data": {
      "text/plain": [
       "134217728.0"
      ]
     },
     "execution_count": 43,
     "metadata": {},
     "output_type": "execute_result"
    }
   ],
   "source": [
    "model.get_latest_training_loss()"
   ]
  },
  {
   "cell_type": "code",
   "execution_count": null,
   "metadata": {},
   "outputs": [
    {
     "data": {
      "image/png": "[encoded data removed]",
      "text/plain": [
       "<Figure size 640x480 with 1 Axes>"
      ]
     },
     "metadata": {},
     "output_type": "display_data"
    }
   ],
   "source": [
    "import matplotlib.pyplot as plt\n",
    "\n",
    "plt.plot(loss_val_list)\n",
    "plt.xlabel('Iteration')\n",
    "plt.ylabel('Loss')\n",
    "plt.title('Training Loss over Iterations')\n",
    "plt.show()"
   ]
  },
  {
   "cell_type": "code",
   "execution_count": null,
   "metadata": {},
   "outputs": [],
   "source": [
    "model = Word2Vec.load('resource/word2vec/model4_0')\n",
    "model2 = Word2Vec.load('resource/word2vec/model4_1')\n",
    "model3 = Word2Vec.load('resource/word2vec/model4_2')"
   ]
  },
  {
   "cell_type": "code",
   "execution_count": null,
   "metadata": {},
   "outputs": [
    {
     "name": "stdout",
     "output_type": "stream",
     "text": [
      "134217728.0\n",
      "134217728.0\n",
      "134217728.0\n"
     ]
    }
   ],
   "source": [
    "print(model.get_latest_training_loss())\n",
    "print(model.get_latest_training_loss())\n",
    "print(model.get_latest_training_loss())"
   ]
  },
  {
   "cell_type": "code",
   "execution_count": null,
   "metadata": {},
   "outputs": [
    {
     "name": "stdout",
     "output_type": "stream",
     "text": [
      "572220\n",
      "572220\n",
      "572220\n"
     ]
    }
   ],
   "source": [
    "print(model.corpus_count)\n",
    "print(model2.corpus_count)\n",
    "print(model3.corpus_count)\n"
   ]
  },
  {
   "cell_type": "code",
   "execution_count": null,
   "metadata": {},
   "outputs": [
    {
     "name": "stdout",
     "output_type": "stream",
     "text": [
      "[('self', 0.4681047797203064), ('_', 0.43842124938964844), ('<ctxt>', 0.42222991585731506), ('▁test', 0.4195534288883209), ('▁return', 0.4166620373725891), ('▁', 0.4138110876083374), ('):', 0.41030827164649963), ('▁self', 0.4094693660736084), ('▁async', 0.3999880850315094), ('<sep>', 0.39522185921669006)]\n",
      "[('self', 0.49105507135391235), ('▁return', 0.4644278883934021), ('(', 0.4596945345401764), ('▁self', 0.42661967873573303), ('▁test', 0.41681811213493347), ('.', 0.41298919916152954), ('):', 0.4116331934928894), ('<sep>', 0.4061950743198395), ('▁class', 0.3980052173137665), ('_', 0.396666556596756)]\n",
      "[('self', 0.46803098917007446), ('▁self', 0.441415935754776), ('▁@', 0.4293382465839386), ('):', 0.4218350052833557), ('_', 0.41000860929489136), ('<sep>', 0.40230366587638855), ('staticmethod', 0.4003777801990509), ('classmethod', 0.3899044692516327), ('▁return', 0.3885442018508911), ('▁class', 0.38147228956222534)]\n"
     ]
    }
   ],
   "source": [
    "print(model.wv.most_similar('▁def'))\n",
    "print(model2.wv.most_similar('▁def'))\n",
    "print(model3.wv.most_similar('▁def'))"
   ]
  },
  {
   "cell_type": "code",
   "execution_count": null,
   "metadata": {},
   "outputs": [],
   "source": [
    "vocab = model2.wv.index_to_key\n",
    "with open('test.txt', 'a') as f:\n",
    "    for word in vocab:\n",
    "        print(word, file=f) "
   ]
  },
  {
   "cell_type": "code",
   "execution_count": 3,
   "metadata": {},
   "outputs": [
    {
     "name": "stdout",
     "output_type": "stream",
     "text": [
      "71023480.0\n",
      "572220\n",
      "[('staticmethod', 0.5905128121376038), ('classmethod', 0.5132139921188354), ('self', 0.4843156337738037), ('▁test', 0.47513890266418457), ('▁@', 0.46527475118637085), ('abstractmethod', 0.45951974391937256), ('▁async', 0.45680421590805054), ('__(', 0.42482084035873413), ('_', 0.41515496373176575), ('▁class', 0.41012099385261536)]\n"
     ]
    }
   ],
   "source": [
    "model = Word2Vec.load('resource/word2vec/model7/model7_18')\n",
    "print(model.get_latest_training_loss())\n",
    "print(model.corpus_count)\n",
    "print(model.wv.most_similar('▁def'))\n"
   ]
  },
  {
   "cell_type": "code",
   "execution_count": 4,
   "metadata": {},
   "outputs": [
    {
     "name": "stdout",
     "output_type": "stream",
     "text": [
      "71445936.0\n",
      "572220\n",
      "[('staticmethod', 0.5776503086090088), ('▁test', 0.5226782560348511), ('classmethod', 0.5020880699157715), ('▁async', 0.4952702224254608), ('self', 0.49284300208091736), ('▁@', 0.4509302079677582), ('_', 0.44459277391433716), ('abstractmethod', 0.43911096453666687), ('▁self', 0.4197990596294403), ('__(', 0.4192160665988922)]\n"
     ]
    }
   ],
   "source": [
    "model = Word2Vec.load('resource/word2vec/model8/model8_18')\n",
    "print(model.get_latest_training_loss())\n",
    "print(model.corpus_count)\n",
    "print(model.wv.most_similar('▁def'))"
   ]
  }
 ],
 "metadata": {
  "kernelspec": {
   "display_name": "siamese",
   "language": "python",
   "name": "python3"
  },
  "language_info": {
   "codemirror_mode": {
    "name": "ipython",
    "version": 3
   },
   "file_extension": ".py",
   "mimetype": "text/x-python",
   "name": "python",
   "nbconvert_exporter": "python",
   "pygments_lexer": "ipython3",
   "version": "3.9.19"
  }
 },
 "nbformat": 4,
 "nbformat_minor": 2
}
